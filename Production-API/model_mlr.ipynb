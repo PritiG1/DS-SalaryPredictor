{
 "cells": [
  {
   "attachments": {},
   "cell_type": "markdown",
   "metadata": {},
   "source": [
    "### For simplicity, we will train ML model for only one job category i.e. 'Data Scientist. "
   ]
  },
  {
   "cell_type": "code",
   "execution_count": 1,
   "metadata": {},
   "outputs": [
    {
     "name": "stdout",
     "output_type": "stream",
     "text": [
      "Mean Absolute Error: 4.1961968146727875\n"
     ]
    }
   ],
   "source": [
    "# Author: Priti Gupta\n",
    "# Date: June 13th, 2023\n",
    "# Description: Scrapping data from glassdoor to analyse salaries of data science positions in India\n",
    "# GitHub: https://github.com/PritiG1/DS-SalaryPredictor\n",
    "\n",
    "import numpy as np\n",
    "import pandas as pd\n",
    "\n",
    "\n",
    "df = pd.read_csv('FE_naukri_salary.csv')\n",
    "\n",
    "pd.set_option('display.max_rows',None)\n",
    "df = df[df['Location']!='Misc']\n",
    "df = df[df['Job title']!='na']\n",
    "df = df[df['Job title']=='Data Scientist']\n",
    "model_df = df[['avg Experience (yrs)','avg salary (L)']]\n",
    "\n",
    "# importing libraries\n",
    "import numpy as np\n",
    "import matplotlib.pyplot as plt\n",
    "import pandas as pd\n",
    "\n",
    "#dividing dataset\n",
    "X = model_df.iloc[:, 0].values\n",
    "y = model_df.iloc[:, -1].values\n",
    "\n",
    "X = X.reshape(len(X), -1)\n",
    "\n",
    "# splitting dataset into training set and testing set\n",
    "from sklearn.model_selection import train_test_split\n",
    "X_train, X_test, y_train, y_test = train_test_split(X, y, test_size = 0.1, random_state = 0)\n",
    "\n",
    "#training the model\n",
    "# training the model on the training set\n",
    "from sklearn.linear_model import LinearRegression\n",
    "regressor_mlr = LinearRegression()\n",
    "regressor_mlr.fit(X_train, y_train)\n",
    "\n",
    "#predicting the test results\n",
    "y_pred = regressor_mlr.predict(X_test)\n",
    "\n",
    "from sklearn.metrics import mean_absolute_error\n",
    "mae = mean_absolute_error(y_test, y_pred)\n",
    "print(\"Mean Absolute Error:\", mae)\n",
    "\n",
    "#The pickle module allows you to serialize Python objects, including machine learning models, and save them to a file.\n",
    "\n",
    "import pickle\n",
    "\n",
    "# Assuming your regression model is stored in the variable 'regression_model'\n",
    "# Save the model to a file\n",
    "with open('regression_model_ds.pkl', 'wb') as file:\n",
    "    pickle.dump(regressor_mlr, file)\n"
   ]
  },
  {
   "cell_type": "code",
   "execution_count": 3,
   "metadata": {},
   "outputs": [
    {
     "data": {
      "text/plain": [
       "array([25.86615816])"
      ]
     },
     "execution_count": 3,
     "metadata": {},
     "output_type": "execute_result"
    }
   ],
   "source": [
    "#Once the model is saved, you can load it later using the pickle.load() function:\n",
    "# Load the saved model from file\n",
    "import pickle\n",
    "import numpy as np\n",
    "with open('regression_model_ds.pkl', 'rb') as file:\n",
    "    regression_mlr = pickle.load(file)\n",
    "\n",
    "\n",
    "regression_mlr.predict(np.array([[10.0]]))\n"
   ]
  },
  {
   "cell_type": "code",
   "execution_count": null,
   "metadata": {},
   "outputs": [],
   "source": [
    "import matplotlib.pyplot as plt\n",
    "\n",
    "# Assuming you have loaded y_pred and y_test\n",
    "\n",
    "# Plotting y_pred against y_test\n",
    "plt.scatter(y_test, y_pred, color='blue', alpha=0.5)\n",
    "plt.plot(y_test, y_test, color='red')  # Plotting the ideal line where y_pred = y_test\n",
    "plt.xlabel('Actual values (y_test)')\n",
    "plt.ylabel('Predicted values (y_pred)')\n",
    "plt.title('Actual vs Predicted values')\n",
    "plt.show()\n"
   ]
  },
  {
   "attachments": {},
   "cell_type": "markdown",
   "metadata": {},
   "source": []
  }
 ],
 "metadata": {
  "kernelspec": {
   "display_name": "Python 3",
   "language": "python",
   "name": "python3"
  },
  "language_info": {
   "codemirror_mode": {
    "name": "ipython",
    "version": 3
   },
   "file_extension": ".py",
   "mimetype": "text/x-python",
   "name": "python",
   "nbconvert_exporter": "python",
   "pygments_lexer": "ipython3",
   "version": "3.9.6"
  },
  "orig_nbformat": 4
 },
 "nbformat": 4,
 "nbformat_minor": 2
}
