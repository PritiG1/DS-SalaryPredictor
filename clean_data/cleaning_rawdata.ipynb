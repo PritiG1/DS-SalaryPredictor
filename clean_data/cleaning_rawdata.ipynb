{
 "cells": [
  {
   "attachments": {},
   "cell_type": "markdown",
   "metadata": {},
   "source": [
    "# `Data parsing (Glassdoor)`"
   ]
  },
  {
   "cell_type": "code",
   "execution_count": 1,
   "metadata": {},
   "outputs": [],
   "source": [
    "import pandas as pd\n",
    "import numpy as np\n",
    "\n",
    "df = pd.read_csv('datascientist_salary_glassdoor.csv')"
   ]
  },
  {
   "attachments": {},
   "cell_type": "markdown",
   "metadata": {},
   "source": [
    "### Analysing the salary coloumn\n",
    "\n",
    "- Make a col \"Salary (Employer Est)\" and input salaries using Salary coloumn else -1\n",
    "- Make a col \"Salary (Glassdoor Est) \" and input salaries using salary coloumn else -1"
   ]
  },
  {
   "cell_type": "code",
   "execution_count": 2,
   "metadata": {},
   "outputs": [],
   "source": [
    "df['Salary (Employer est.)'] = np.where(df['Salary'].str.endswith('(Employer Est.)'),'1','0')\n",
    "df['Salary (Glassdoor est.)'] = np.where(df['Salary'].str.endswith('(Glassdoor Est.)'),'1','0')\n",
    "\n",
    "# In this code snippet, df['Salary'] selects the 'Salary' column of the DataFrame. \n",
    "# The str.endswith() method checks if each entry in the column ends with \"..some string\". \n",
    "# If the condition is True, the entry is copied to the new Column. \n",
    "# Otherwise, '-1' is assigned to the new col for that entry. "
   ]
  },
  {
   "attachments": {},
   "cell_type": "markdown",
   "metadata": {},
   "source": [
    "- Cleaning the salary col"
   ]
  },
  {
   "cell_type": "code",
   "execution_count": 4,
   "metadata": {},
   "outputs": [],
   "source": [
    "df['Salary'] = df['Salary'].str.replace(' \\(Employer Est.\\)', '', regex=True)\n",
    "df['Salary'] = df['Salary'].str.replace(' \\(Glassdoor Est.\\)', '', regex=True)"
   ]
  },
  {
   "attachments": {},
   "cell_type": "markdown",
   "metadata": {},
   "source": [
    "- Removing the currency signs"
   ]
  },
  {
   "cell_type": "code",
   "execution_count": 5,
   "metadata": {},
   "outputs": [],
   "source": [
    "df['Salary'] = df['Salary'].str.replace('₹','',regex =True)"
   ]
  },
  {
   "attachments": {},
   "cell_type": "markdown",
   "metadata": {},
   "source": [
    "- Making sure the salaries are in the same units (we chose it to be Lacs)\n",
    "- We may have data like T-T,T,T-L"
   ]
  },
  {
   "cell_type": "code",
   "execution_count": 7,
   "metadata": {},
   "outputs": [],
   "source": [
    "# tackling T-T data type\n",
    "df['Salary'] = df['Salary'].str.replace('(\\d+)T - (\\d+)T', lambda x: str(int(x.group(1))/100) + 'L - ' + str(int(x.group(2))/100) + 'L', regex=True)\n",
    "\n",
    "# tackling T-L data type\n",
    "df['Salary'] = df['Salary'].str.replace('(\\d+)T - (\\d+)L', lambda x: str(int(x.group(1))/100) + 'L - ' + str(int(x.group(2))) + 'L', regex=True)\n",
    "\n",
    "# tackling T data type\n",
    "df['Salary'] = df['Salary'].str.replace('(\\d+)T', lambda x: str(int(x.group(1))/100) + 'L', regex=True)"
   ]
  },
  {
   "attachments": {},
   "cell_type": "markdown",
   "metadata": {},
   "source": [
    "- Converting hourly salary to annual"
   ]
  },
  {
   "cell_type": "code",
   "execution_count": 9,
   "metadata": {},
   "outputs": [],
   "source": [
    "# tacking \"per hour\" type data\n",
    "# first getting rid of the commas\n",
    "\n",
    "df['Salary'] = df['Salary'].str.replace(',','',regex=True)\n",
    "\n",
    "# converting the per hour salary into annual by assuming 2100 working hours.\n",
    "hour_L = 2100/100000\n",
    "df['Salary'] = df['Salary'].apply(lambda x: str(np.round(float(x.rstrip('Per hour').split('-')[0])*hour_L,2))+'L - '+ \\\n",
    "str(np.round(float(x.rstrip('Per hour').split('-')[1])*hour_L,2))+'L' if 'Per hour' in x else x)\n"
   ]
  },
  {
   "attachments": {},
   "cell_type": "markdown",
   "metadata": {},
   "source": [
    "- Remove denomination from the end and we will end up with a range"
   ]
  },
  {
   "cell_type": "code",
   "execution_count": 11,
   "metadata": {},
   "outputs": [],
   "source": [
    "df['Salary'] = df['Salary'].str.replace('L','',regex =True)"
   ]
  },
  {
   "attachments": {},
   "cell_type": "markdown",
   "metadata": {},
   "source": [
    "- Renaming the salary col to mention the units of our data"
   ]
  },
  {
   "cell_type": "code",
   "execution_count": 12,
   "metadata": {},
   "outputs": [],
   "source": [
    "df.rename(columns={'Salary': 'Salary (L)'}, inplace=True)"
   ]
  },
  {
   "attachments": {},
   "cell_type": "markdown",
   "metadata": {},
   "source": [
    "- Defining two cols for min and max salary"
   ]
  },
  {
   "cell_type": "code",
   "execution_count": 14,
   "metadata": {},
   "outputs": [],
   "source": [
    "df['min Salary (L)'] = df['Salary (L)'].apply(lambda x: x.split('-')[0])\n",
    "df['max Salary (L)'] = df['Salary (L)'].apply(lambda x: x.split('-')[1] if len(x.split('-')) > 1 else x.split('-')[0])"
   ]
  },
  {
   "attachments": {},
   "cell_type": "markdown",
   "metadata": {},
   "source": [
    "- Making a col with average salary"
   ]
  },
  {
   "cell_type": "code",
   "execution_count": 16,
   "metadata": {},
   "outputs": [],
   "source": [
    "df['avg salary (L)'] = df['Salary (L)'].apply(lambda x: str((float(x.split('-')[0])+float(x.split('-')[1]))/2) if len(x.split('-')) > 1 else x.split('-')[0])\n"
   ]
  },
  {
   "attachments": {},
   "cell_type": "markdown",
   "metadata": {},
   "source": [
    "### Analysing 'company' coloumn"
   ]
  },
  {
   "attachments": {},
   "cell_type": "markdown",
   "metadata": {},
   "source": [
    "- The extracted company names are text only so it won't require further cleaning.\n",
    "\n",
    "    While data scrapping we already removed the rating part using regex expression\n",
    "\n",
    "    def text_clean(string):\n",
    "        pattern = r\"\\d+(\\.\\d+)? ★$\"  # Regex pattern to match the substring \"3.9 ★\" at the end of the string\n",
    "        stripped_string = re.sub(pattern, \"\", string)  # Remove the matched substring using regex substitution\n",
    "        return stripped_string\n"
   ]
  },
  {
   "attachments": {},
   "cell_type": "markdown",
   "metadata": {},
   "source": [
    "### Analysing 'Location' coloumn"
   ]
  },
  {
   "attachments": {},
   "cell_type": "markdown",
   "metadata": {},
   "source": [
    "- We use 'info()' method to find out that for 4 job listings, there is no location information\n",
    "we drop these rows using the following command"
   ]
  },
  {
   "cell_type": "code",
   "execution_count": 27,
   "metadata": {},
   "outputs": [],
   "source": [
    "df.dropna(subset=['Location'], inplace=True)"
   ]
  },
  {
   "cell_type": "code",
   "execution_count": 37,
   "metadata": {},
   "outputs": [],
   "source": [
    "df.to_csv('salary_clean_glassdoor.csv',index=False)"
   ]
  },
  {
   "cell_type": "code",
   "execution_count": 18,
   "metadata": {},
   "outputs": [
    {
     "name": "stdout",
     "output_type": "stream",
     "text": [
      "******************************************************************************************************************************************************\n"
     ]
    }
   ],
   "source": [
    "print('*'*150)"
   ]
  },
  {
   "attachments": {},
   "cell_type": "markdown",
   "metadata": {},
   "source": [
    "# `Data Parsing (Naukri)`"
   ]
  },
  {
   "cell_type": "code",
   "execution_count": 1,
   "metadata": {},
   "outputs": [],
   "source": [
    "import pandas as pd\n",
    "import numpy as np\n",
    "\n",
    "df = pd.read_csv('datascientist_salary_naukri.csv')"
   ]
  },
  {
   "attachments": {},
   "cell_type": "markdown",
   "metadata": {},
   "source": [
    "- Dropping the rows for which salary is not disclosed"
   ]
  },
  {
   "cell_type": "code",
   "execution_count": 2,
   "metadata": {},
   "outputs": [],
   "source": [
    "df = df[df['Salary']!='Not disclosed']\n",
    "df = df.reset_index()\n",
    "df = df.drop(['index'],axis=1)"
   ]
  },
  {
   "cell_type": "code",
   "execution_count": 3,
   "metadata": {},
   "outputs": [],
   "source": [
    "# removing rows with salary in crores (may be potential outliers)\n",
    "df.drop(index=[378,380],axis=0,inplace=True)\n",
    "df = df.reset_index()\n",
    "df = df.drop(['index'],axis=1)"
   ]
  },
  {
   "attachments": {},
   "cell_type": "markdown",
   "metadata": {},
   "source": [
    "- Expressing the salary in lacs"
   ]
  },
  {
   "cell_type": "code",
   "execution_count": 4,
   "metadata": {},
   "outputs": [],
   "source": [
    "# removing commas between numbers\n",
    "\n",
    "df['Salary'] = df['Salary'].str.replace(',','',regex=True)\n",
    "\n",
    "# coversion to lacs\n",
    "df['Salary (L)'] = df['Salary'].apply(lambda x: str(float(x.rstrip('Lacs PA').split('-')[0])/100000)+ \\\n",
    "                                      '-'+x.rstrip('Lacs PA').split('-')[1]+' Lacs PA' if (('Lacs PA' in x) and (len(x.rstrip('Lacs PA').split('-')[0])>4)) else x)\n",
    "\n",
    "df['Salary (L)'] = df['Salary (L)'].apply(lambda x: str(float(x.rstrip('PA').split('-')[0])/100000) +\\\n",
    "                                           '-' + str(float(x.rstrip('PA').split('-')[1])/100000) + ' Lacs PA' if (('Lacs' not in x) and ('Cr' not in x) and (len(x.rstrip('PA').split('-')) > 1)) else x)\n",
    "\n",
    "\n",
    "df['Salary (L)'] = df['Salary (L)'].apply(lambda x: str(float(x.rstrip('PA'))/100000) +\\\n",
    "                                         ' Lacs PA' if ('PA' in x and 'Lacs' not in x) else x)"
   ]
  },
  {
   "attachments": {},
   "cell_type": "markdown",
   "metadata": {},
   "source": [
    "- some more cleaning of jargons"
   ]
  },
  {
   "cell_type": "code",
   "execution_count": 5,
   "metadata": {},
   "outputs": [],
   "source": [
    "pattern = r\"\\(Including Variable: \\d+(\\.\\d+)?%\\)\"\n",
    "df['Salary (L)'] = df['Salary (L)'].replace(pattern,'',regex=True)\n"
   ]
  },
  {
   "cell_type": "code",
   "execution_count": 6,
   "metadata": {},
   "outputs": [],
   "source": [
    "df['Salary (L)'] = df['Salary (L)'].replace('Lacs PA','',regex=True)"
   ]
  },
  {
   "attachments": {},
   "cell_type": "markdown",
   "metadata": {},
   "source": [
    "- construct cols with min, max and average salary"
   ]
  },
  {
   "cell_type": "code",
   "execution_count": 7,
   "metadata": {},
   "outputs": [],
   "source": [
    "df['min Salary (L)'] = df['Salary (L)'].apply(lambda x: x.split('-')[0])\n",
    "df['max Salary (L)'] = df['Salary (L)'].apply(lambda x: x.split('-')[1] if len(x.split('-')) > 1 else x.split('-')[0])\n",
    "df['avg salary (L)'] = df['Salary (L)'].apply(lambda x: str((float(x.split('-')[0])+float(x.split('-')[1]))/2) if len(x.split('-')) > 1 else x.split('-')[0])\n"
   ]
  },
  {
   "attachments": {},
   "cell_type": "markdown",
   "metadata": {},
   "source": [
    "### Analysing `experience` coloumn"
   ]
  },
  {
   "cell_type": "code",
   "execution_count": 11,
   "metadata": {},
   "outputs": [],
   "source": [
    "df['Experience (yrs)'] = df['Experience'].str.replace('Yrs','',regex=True)"
   ]
  },
  {
   "cell_type": "code",
   "execution_count": 13,
   "metadata": {},
   "outputs": [],
   "source": [
    "df['min Experience (yrs)'] = df['Experience (yrs)'].apply(lambda x: x.split('-')[0])\n",
    "df['max Experience (yrs)'] = df['Experience (yrs)'].apply(lambda x: x.split('-')[1] if len(x.split('-')) > 1 else x.split('-')[0])\n",
    "df['avg Experience (yrs)'] = df['Experience (yrs)'].apply(lambda x: str((float(x.split('-')[0])+float(x.split('-')[1]))/2) if len(x.split('-')) > 1 else x.split('-')[0])\n"
   ]
  },
  {
   "attachments": {},
   "cell_type": "markdown",
   "metadata": {},
   "source": [
    "- Saving the cleaned dataset"
   ]
  },
  {
   "cell_type": "code",
   "execution_count": 15,
   "metadata": {},
   "outputs": [],
   "source": [
    "df.to_csv('salary_clean_naukri.csv',index=False)"
   ]
  },
  {
   "attachments": {},
   "cell_type": "markdown",
   "metadata": {},
   "source": []
  }
 ],
 "metadata": {
  "kernelspec": {
   "display_name": "Python 3",
   "language": "python",
   "name": "python3"
  },
  "language_info": {
   "codemirror_mode": {
    "name": "ipython",
    "version": 3
   },
   "file_extension": ".py",
   "mimetype": "text/x-python",
   "name": "python",
   "nbconvert_exporter": "python",
   "pygments_lexer": "ipython3",
   "version": "3.9.6"
  },
  "orig_nbformat": 4
 },
 "nbformat": 4,
 "nbformat_minor": 2
}
